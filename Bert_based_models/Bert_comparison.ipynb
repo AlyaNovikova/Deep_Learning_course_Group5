{
 "cells": [
  {
   "cell_type": "code",
   "execution_count": 1,
   "metadata": {
    "id": "rU4nDmIMV3dF"
   },
   "outputs": [],
   "source": [
    "# from google.colab import drive\n",
    "# drive.mount('/content/drive')"
   ]
  },
  {
   "cell_type": "code",
   "execution_count": 2,
   "metadata": {
    "id": "YwkgNcWjV9Vy"
   },
   "outputs": [],
   "source": [
    "import numpy as np\n",
    "import pandas as pd\n",
    "import os"
   ]
  },
  {
   "cell_type": "code",
   "execution_count": 3,
   "metadata": {
    "id": "tn-KANhNYJgH"
   },
   "outputs": [],
   "source": [
    "import torch\n",
    "from transformers import AdamW\n",
    "from torch.utils.data import DataLoader, Dataset\n",
    "from sklearn.metrics import accuracy_score, f1_score\n",
    "from tqdm import tqdm"
   ]
  },
  {
   "cell_type": "markdown",
   "metadata": {},
   "source": [
    "# Dataset"
   ]
  },
  {
   "cell_type": "code",
   "execution_count": 4,
   "metadata": {
    "colab": {
     "base_uri": "https://localhost:8080/",
     "height": 379
    },
    "id": "fqvnSKEnV-ZW",
    "outputId": "cb66c43b-fd28-4d8b-ad32-ee2a5b0f161c"
   },
   "outputs": [
    {
     "data": {
      "text/html": [
       "<div>\n",
       "<style scoped>\n",
       "    .dataframe tbody tr th:only-of-type {\n",
       "        vertical-align: middle;\n",
       "    }\n",
       "\n",
       "    .dataframe tbody tr th {\n",
       "        vertical-align: top;\n",
       "    }\n",
       "\n",
       "    .dataframe thead th {\n",
       "        text-align: right;\n",
       "    }\n",
       "</style>\n",
       "<table border=\"1\" class=\"dataframe\">\n",
       "  <thead>\n",
       "    <tr style=\"text-align: right;\">\n",
       "      <th></th>\n",
       "      <th>is_sarcastic</th>\n",
       "      <th>headline</th>\n",
       "      <th>article_link</th>\n",
       "    </tr>\n",
       "  </thead>\n",
       "  <tbody>\n",
       "    <tr>\n",
       "      <th>0</th>\n",
       "      <td>1</td>\n",
       "      <td>thirtysomething scientists unveil doomsday clo...</td>\n",
       "      <td>https://www.theonion.com/thirtysomething-scien...</td>\n",
       "    </tr>\n",
       "    <tr>\n",
       "      <th>1</th>\n",
       "      <td>0</td>\n",
       "      <td>dem rep. totally nails why congress is falling...</td>\n",
       "      <td>https://www.huffingtonpost.com/entry/donna-edw...</td>\n",
       "    </tr>\n",
       "    <tr>\n",
       "      <th>2</th>\n",
       "      <td>0</td>\n",
       "      <td>eat your veggies: 9 deliciously different recipes</td>\n",
       "      <td>https://www.huffingtonpost.com/entry/eat-your-...</td>\n",
       "    </tr>\n",
       "    <tr>\n",
       "      <th>3</th>\n",
       "      <td>1</td>\n",
       "      <td>inclement weather prevents liar from getting t...</td>\n",
       "      <td>https://local.theonion.com/inclement-weather-p...</td>\n",
       "    </tr>\n",
       "    <tr>\n",
       "      <th>4</th>\n",
       "      <td>1</td>\n",
       "      <td>mother comes pretty close to using word 'strea...</td>\n",
       "      <td>https://www.theonion.com/mother-comes-pretty-c...</td>\n",
       "    </tr>\n",
       "  </tbody>\n",
       "</table>\n",
       "</div>"
      ],
      "text/plain": [
       "   is_sarcastic                                           headline  \\\n",
       "0             1  thirtysomething scientists unveil doomsday clo...   \n",
       "1             0  dem rep. totally nails why congress is falling...   \n",
       "2             0  eat your veggies: 9 deliciously different recipes   \n",
       "3             1  inclement weather prevents liar from getting t...   \n",
       "4             1  mother comes pretty close to using word 'strea...   \n",
       "\n",
       "                                        article_link  \n",
       "0  https://www.theonion.com/thirtysomething-scien...  \n",
       "1  https://www.huffingtonpost.com/entry/donna-edw...  \n",
       "2  https://www.huffingtonpost.com/entry/eat-your-...  \n",
       "3  https://local.theonion.com/inclement-weather-p...  \n",
       "4  https://www.theonion.com/mother-comes-pretty-c...  "
      ]
     },
     "execution_count": 4,
     "metadata": {},
     "output_type": "execute_result"
    }
   ],
   "source": [
    "data = pd.read_json(\"Sarcasm_Headlines_Dataset.json\", lines=True)\n",
    "labels = data.is_sarcastic.values\n",
    "sentences = data.headline.values\n",
    "data.head()"
   ]
  },
  {
   "cell_type": "code",
   "execution_count": 5,
   "metadata": {
    "id": "MLxUcj8YX-N8"
   },
   "outputs": [],
   "source": [
    "# train_sents,test_sents, train_labels, test_labels  = train_test_split(sentences,labels,test_size=0.15)\n",
    "data_train = pd.read_json(\"train_Sarcasm_Headlines_Dataset.json\", lines=True)\n",
    "train_labels = data_train.is_sarcastic.values\n",
    "train_sents = data_train.headline.values\n",
    "\n",
    "data_test = pd.read_json(\"test_Sarcasm_Headlines_Dataset.json\", lines=True)\n",
    "test_labels = data_test.is_sarcastic.values\n",
    "test_sents = data_test.headline.values\n"
   ]
  },
  {
   "cell_type": "code",
   "execution_count": 6,
   "metadata": {
    "colab": {
     "base_uri": "https://localhost:8080/"
    },
    "id": "FPe6-SoRpYmc",
    "outputId": "713b3a6a-b2d6-4e00-d688-d6a3f2de04f1"
   },
   "outputs": [
    {
     "data": {
      "text/plain": [
       "array(['thirtysomething scientists unveil doomsday clock of hair loss',\n",
       "       'dem rep. totally nails why congress is falling short on gender, racial equality',\n",
       "       'eat your veggies: 9 deliciously different recipes', ...,\n",
       "       'the most beautiful acceptance speech this week came from a queer korean',\n",
       "       'mars probe destroyed by orbiting spielberg-gates space palace',\n",
       "       'dad clarifies this not a food stop'], dtype=object)"
      ]
     },
     "execution_count": 6,
     "metadata": {},
     "output_type": "execute_result"
    }
   ],
   "source": [
    "sentences"
   ]
  },
  {
   "cell_type": "code",
   "execution_count": 7,
   "metadata": {
    "id": "ExrQYlWHpqGx"
   },
   "outputs": [],
   "source": [
    "sentence_list = []\n",
    "\n",
    "for sentence in sentences:\n",
    "    sentence_list.append(sentence)"
   ]
  },
  {
   "cell_type": "markdown",
   "metadata": {
    "id": "7VDWxlZjpr8T"
   },
   "source": [
    "# Comparison of the original BERT-based models"
   ]
  },
  {
   "cell_type": "code",
   "execution_count": 8,
   "metadata": {
    "colab": {
     "base_uri": "https://localhost:8080/"
    },
    "id": "P0MHxpeqol_z",
    "outputId": "3c2c8318-2d71-47d5-a2b8-f54dc37475a4"
   },
   "outputs": [
    {
     "name": "stderr",
     "output_type": "stream",
     "text": [
      "Some weights of RobertaModel were not initialized from the model checkpoint at roberta-base and are newly initialized: ['roberta.pooler.dense.bias', 'roberta.pooler.dense.weight']\n",
      "You should probably TRAIN this model on a down-stream task to be able to use it for predictions and inference.\n"
     ]
    }
   ],
   "source": [
    "import torch\n",
    "from sklearn.model_selection import train_test_split\n",
    "from sklearn.linear_model import LogisticRegression\n",
    "from transformers import BertTokenizer, BertModel, RobertaTokenizer, RobertaModel\n",
    "from tqdm import tqdm\n",
    "\n",
    "bert_tokenizer = BertTokenizer.from_pretrained('bert-base-uncased')\n",
    "bert_model = BertModel.from_pretrained('bert-base-uncased')\n",
    "\n",
    "roberta_tokenizer = RobertaTokenizer.from_pretrained('roberta-base')\n",
    "roberta_model = RobertaModel.from_pretrained('roberta-base')\n",
    "\n",
    "# def get_embeddings(model, tokenizer, sentences, max_length=64):\n",
    "#     inputs = tokenizer(sentences, return_tensors=\"pt\", padding=True, truncation=True)\n",
    "#     with torch.no_grad():\n",
    "#         outputs = model(**inputs)\n",
    "#     embeddings = outputs.last_hidden_state[:, 0, :].numpy()\n",
    "#     return embeddings\n",
    "\n",
    "def get_embeddings(model, tokenizer, sentences, batch_size=64):\n",
    "    num_sentences = len(sentences)\n",
    "    embeddings = []\n",
    "\n",
    "    device = torch.device(\"cuda\" if torch.cuda.is_available() else \"cpu\")\n",
    "    model.to(device)\n",
    "    model.eval()\n",
    "\n",
    "    for start_index in tqdm(range(0, num_sentences, batch_size)):\n",
    "        batch_sentences = sentences[start_index:start_index + batch_size]\n",
    "        inputs = tokenizer(batch_sentences, return_tensors=\"pt\", padding=True, truncation=True)\n",
    "        inputs = {key: value.to(device) for key, value in inputs.items()}\n",
    "\n",
    "        with torch.no_grad():\n",
    "            outputs = model(**inputs)\n",
    "\n",
    "        batch_embeddings = outputs.last_hidden_state[:, 0, :].detach().cpu().numpy()\n",
    "        embeddings.append(batch_embeddings)\n",
    "\n",
    "    embeddings = np.concatenate(embeddings, axis=0)\n",
    "    return embeddings"
   ]
  },
  {
   "cell_type": "code",
   "execution_count": 9,
   "metadata": {
    "id": "lbnERxKIqnsY"
   },
   "outputs": [
    {
     "name": "stderr",
     "output_type": "stream",
     "text": [
      "100%|██████████| 381/381 [00:24<00:00, 15.71it/s]\n",
      "100%|██████████| 68/68 [00:04<00:00, 14.95it/s]\n"
     ]
    },
    {
     "name": "stdout",
     "output_type": "stream",
     "text": [
      "BERT Accuracy: 0.8581741965533303\n"
     ]
    },
    {
     "name": "stderr",
     "output_type": "stream",
     "text": [
      "/usr/local/lib/python3.10/dist-packages/sklearn/linear_model/_logistic.py:469: ConvergenceWarning: lbfgs failed to converge (status=1):\n",
      "STOP: TOTAL NO. of ITERATIONS REACHED LIMIT.\n",
      "\n",
      "Increase the number of iterations (max_iter) or scale the data as shown in:\n",
      "    https://scikit-learn.org/stable/modules/preprocessing.html\n",
      "Please also refer to the documentation for alternative solver options:\n",
      "    https://scikit-learn.org/stable/modules/linear_model.html#logistic-regression\n",
      "  n_iter_i = _check_optimize_result(\n"
     ]
    }
   ],
   "source": [
    "bert_embeddings_train = get_embeddings(bert_model, bert_tokenizer, train_sents.tolist())\n",
    "bert_embeddings_test = get_embeddings(bert_model, bert_tokenizer, test_sents.tolist())\n",
    "\n",
    "# X_train_bert, X_test_bert, y_train, y_test = train_test_split(bert_embeddings, labels, test_size=0.3, random_state=42)\n",
    "\n",
    "log_reg_model_bert = LogisticRegression()\n",
    "log_reg_model_bert.fit(bert_embeddings_train, train_labels)\n",
    "\n",
    "accuracy_bert = log_reg_model_bert.score(bert_embeddings_test, test_labels)\n",
    "print(\"BERT Accuracy:\", accuracy_bert)"
   ]
  },
  {
   "cell_type": "code",
   "execution_count": 10,
   "metadata": {
    "id": "WDzM1MZ-nmCt"
   },
   "outputs": [],
   "source": [
    "np.save(\"bert_embeddings_train.npy\", bert_embeddings_train)\n",
    "np.save(\"bert_embeddings_test.npy\", bert_embeddings_test)"
   ]
  },
  {
   "cell_type": "code",
   "execution_count": 11,
   "metadata": {
    "id": "RsC-ZmZbqlRw"
   },
   "outputs": [
    {
     "name": "stderr",
     "output_type": "stream",
     "text": [
      "100%|██████████| 381/381 [00:20<00:00, 18.40it/s]\n",
      "100%|██████████| 68/68 [00:03<00:00, 17.71it/s]\n"
     ]
    },
    {
     "name": "stdout",
     "output_type": "stream",
     "text": [
      "RoBERTa Accuracy: 0.8497904052165812\n"
     ]
    },
    {
     "name": "stderr",
     "output_type": "stream",
     "text": [
      "/usr/local/lib/python3.10/dist-packages/sklearn/linear_model/_logistic.py:469: ConvergenceWarning: lbfgs failed to converge (status=1):\n",
      "STOP: TOTAL NO. of ITERATIONS REACHED LIMIT.\n",
      "\n",
      "Increase the number of iterations (max_iter) or scale the data as shown in:\n",
      "    https://scikit-learn.org/stable/modules/preprocessing.html\n",
      "Please also refer to the documentation for alternative solver options:\n",
      "    https://scikit-learn.org/stable/modules/linear_model.html#logistic-regression\n",
      "  n_iter_i = _check_optimize_result(\n"
     ]
    }
   ],
   "source": [
    "roberta_embeddings_train = get_embeddings(roberta_model, roberta_tokenizer, train_sents.tolist())\n",
    "roberta_embeddings_test = get_embeddings(roberta_model, roberta_tokenizer, test_sents.tolist())\n",
    "\n",
    "# X_train_roberta, X_test_roberta, y_train, y_test = train_test_split(roberta_embeddings, labels, test_size=0.3, random_state=42)\n",
    "\n",
    "# Fit logistic regression model for RoBERTa\n",
    "log_reg_model_roberta = LogisticRegression()\n",
    "log_reg_model_roberta.fit(roberta_embeddings_train, train_labels)\n",
    "\n",
    "# Evaluate the RoBERTa model\n",
    "accuracy_roberta = log_reg_model_roberta.score(roberta_embeddings_test, test_labels)\n",
    "print(\"RoBERTa Accuracy:\", accuracy_roberta)"
   ]
  },
  {
   "cell_type": "code",
   "execution_count": 12,
   "metadata": {},
   "outputs": [
    {
     "data": {
      "application/vnd.jupyter.widget-view+json": {
       "model_id": "b3a1791636724f98bdcf32da1b62415f",
       "version_major": 2,
       "version_minor": 0
      },
      "text/plain": [
       "model.safetensors:   0%|          | 0.00/47.4M [00:00<?, ?B/s]"
      ]
     },
     "metadata": {},
     "output_type": "display_data"
    }
   ],
   "source": [
    "from transformers import AlbertTokenizer, AlbertModel\n",
    "\n",
    "albert_tokenizer = AlbertTokenizer.from_pretrained('albert-base-v2')\n",
    "albert_model = AlbertModel.from_pretrained(\"albert-base-v2\")"
   ]
  },
  {
   "cell_type": "code",
   "execution_count": 13,
   "metadata": {},
   "outputs": [
    {
     "name": "stderr",
     "output_type": "stream",
     "text": [
      "100%|██████████| 381/381 [00:24<00:00, 15.24it/s]\n",
      "100%|██████████| 68/68 [00:04<00:00, 14.21it/s]\n"
     ]
    },
    {
     "name": "stdout",
     "output_type": "stream",
     "text": [
      "Albert Accuracy: 0.8500232883092688\n"
     ]
    }
   ],
   "source": [
    "albert_embeddings_train = get_embeddings(albert_model, albert_tokenizer, train_sents.tolist())\n",
    "albert_embeddings_test = get_embeddings(albert_model, albert_tokenizer, test_sents.tolist())\n",
    "\n",
    "# X_train_roberta, X_test_roberta, y_train, y_test = train_test_split(roberta_embeddings, labels, test_size=0.3, random_state=42)\n",
    "\n",
    "log_reg_model_albert = LogisticRegression(max_iter=1000)\n",
    "log_reg_model_albert.fit(albert_embeddings_train, train_labels)\n",
    "\n",
    "accuracy_albert = log_reg_model_albert.score(albert_embeddings_test, test_labels)\n",
    "print(\"Albert Accuracy:\", accuracy_albert)"
   ]
  },
  {
   "cell_type": "code",
   "execution_count": 14,
   "metadata": {},
   "outputs": [
    {
     "data": {
      "application/vnd.jupyter.widget-view+json": {
       "model_id": "23b1ad7aacdc4c779341a4b95c55c124",
       "version_major": 2,
       "version_minor": 0
      },
      "text/plain": [
       "tokenizer_config.json:   0%|          | 0.00/48.0 [00:00<?, ?B/s]"
      ]
     },
     "metadata": {},
     "output_type": "display_data"
    },
    {
     "data": {
      "application/vnd.jupyter.widget-view+json": {
       "model_id": "0f213751d9b3425f98f84d6d95f6537e",
       "version_major": 2,
       "version_minor": 0
      },
      "text/plain": [
       "vocab.txt:   0%|          | 0.00/232k [00:00<?, ?B/s]"
      ]
     },
     "metadata": {},
     "output_type": "display_data"
    },
    {
     "data": {
      "application/vnd.jupyter.widget-view+json": {
       "model_id": "1d7ed72b00674dc681c0cdfa7013bdac",
       "version_major": 2,
       "version_minor": 0
      },
      "text/plain": [
       "tokenizer.json:   0%|          | 0.00/466k [00:00<?, ?B/s]"
      ]
     },
     "metadata": {},
     "output_type": "display_data"
    },
    {
     "name": "stderr",
     "output_type": "stream",
     "text": [
      "/usr/local/lib/python3.10/dist-packages/huggingface_hub/file_download.py:1132: FutureWarning: `resume_download` is deprecated and will be removed in version 1.0.0. Downloads always resume when possible. If you want to force a new download, use `force_download=True`.\n",
      "  warnings.warn(\n"
     ]
    },
    {
     "data": {
      "application/vnd.jupyter.widget-view+json": {
       "model_id": "b46d73f7d5ce4543a998281a9d3d70ce",
       "version_major": 2,
       "version_minor": 0
      },
      "text/plain": [
       "config.json:   0%|          | 0.00/666 [00:00<?, ?B/s]"
      ]
     },
     "metadata": {},
     "output_type": "display_data"
    },
    {
     "data": {
      "application/vnd.jupyter.widget-view+json": {
       "model_id": "baa671ddb9244638b49fad4778c9a6c5",
       "version_major": 2,
       "version_minor": 0
      },
      "text/plain": [
       "pytorch_model.bin:   0%|          | 0.00/440M [00:00<?, ?B/s]"
      ]
     },
     "metadata": {},
     "output_type": "display_data"
    },
    {
     "name": "stderr",
     "output_type": "stream",
     "text": [
      "/usr/local/lib/python3.10/dist-packages/torch/_utils.py:831: UserWarning: TypedStorage is deprecated. It will be removed in the future and UntypedStorage will be the only storage class. This should only matter to you if you are using storages directly.  To access UntypedStorage directly, use tensor.untyped_storage() instead of tensor.storage()\n",
      "  return self.fget.__get__(instance, owner)()\n"
     ]
    }
   ],
   "source": [
    "from transformers import ElectraTokenizer, ElectraModel\n",
    "\n",
    "electra_tokenizer = ElectraTokenizer.from_pretrained('google/electra-base-discriminator')\n",
    "electra_model = ElectraModel.from_pretrained(\"google/electra-base-discriminator\")"
   ]
  },
  {
   "cell_type": "code",
   "execution_count": 15,
   "metadata": {},
   "outputs": [
    {
     "name": "stderr",
     "output_type": "stream",
     "text": [
      "100%|██████████| 381/381 [00:23<00:00, 15.94it/s]\n",
      "100%|██████████| 68/68 [00:04<00:00, 14.94it/s]\n"
     ]
    },
    {
     "name": "stdout",
     "output_type": "stream",
     "text": [
      "Electra Accuracy: 0.8663251047973917\n"
     ]
    }
   ],
   "source": [
    "electra_embeddings_train = get_embeddings(electra_model, electra_tokenizer, train_sents.tolist())\n",
    "electra_embeddings_test = get_embeddings(electra_model, electra_tokenizer, test_sents.tolist())\n",
    "\n",
    "# X_train_roberta, X_test_roberta, y_train, y_test = train_test_split(roberta_embeddings, labels, test_size=0.3, random_state=42)\n",
    "\n",
    "log_reg_model_electra = LogisticRegression(max_iter=1000)\n",
    "log_reg_model_electra.fit(electra_embeddings_train, train_labels)\n",
    "\n",
    "accuracy_electra = log_reg_model_electra.score(electra_embeddings_test, test_labels)\n",
    "print(\"Electra Accuracy:\", accuracy_electra)"
   ]
  },
  {
   "cell_type": "markdown",
   "metadata": {},
   "source": [
    "# Finetuning of BERT-based models for news headlines"
   ]
  },
  {
   "cell_type": "code",
   "execution_count": 16,
   "metadata": {
    "id": "P7cWvuvXnmCu"
   },
   "outputs": [],
   "source": [
    "# Dataset class\n",
    "class SarcasmDataset(Dataset):\n",
    "    def __init__(self, texts, labels, tokenizer, max_length):\n",
    "        self.texts = texts\n",
    "        self.labels = labels\n",
    "        self.tokenizer = tokenizer\n",
    "        self.max_length = max_length\n",
    "\n",
    "    def __len__(self):\n",
    "        return len(self.texts)\n",
    "\n",
    "    def __getitem__(self, idx):\n",
    "        text = str(self.texts[idx])\n",
    "        label = self.labels[idx]\n",
    "\n",
    "        encoding = self.tokenizer.encode_plus(\n",
    "            text,\n",
    "            add_special_tokens=True,\n",
    "            max_length=self.max_length,\n",
    "            return_token_type_ids=False,\n",
    "            padding='max_length',\n",
    "            truncation=True,\n",
    "            return_attention_mask=True,\n",
    "            return_tensors='pt',\n",
    "        )\n",
    "\n",
    "        return {\n",
    "            'input_ids': encoding['input_ids'].flatten(),\n",
    "            'attention_mask': encoding['attention_mask'].flatten(),\n",
    "            'label': torch.tensor(label, dtype=torch.long)\n",
    "        }"
   ]
  },
  {
   "cell_type": "code",
   "execution_count": 17,
   "metadata": {
    "id": "VkXr3RjsYwOo"
   },
   "outputs": [],
   "source": [
    "from transformers import AutoTokenizer, BertForSequenceClassification, RobertaTokenizer, RobertaForSequenceClassification\n",
    "import matplotlib.pyplot as plt\n",
    "from transformers import ElectraForSequenceClassification\n",
    "\n",
    "# Function to train and evaluate a BERT-based model\n",
    "def train_evaluate_model(model_type, model_path_to_save, train_texts, train_labels, test_texts, test_labels, max_length=128, batch_size=16, num_epochs=3, learning_rate=2e-5):\n",
    "    # Load pre-trained model and tokenizer\n",
    "    if \"bert\" == model_type:\n",
    "        model_name = \"bert-base-uncased\"\n",
    "        model_class = BertForSequenceClassification\n",
    "        tokenizer_model_name = 'google-bert/bert-base-uncased'\n",
    "    elif \"roberta\" == model_type:\n",
    "        model_name = \"roberta-base\"\n",
    "        model_class = RobertaForSequenceClassification\n",
    "        tokenizer_model_name = 'FacebookAI/roberta-base'\n",
    "    elif \"electra\" == model_type:\n",
    "        model_name = \"google/electra-base-discriminator\"\n",
    "        model_class = ElectraForSequenceClassification\n",
    "        tokenizer_model_name = 'google/electra-base-discriminator'\n",
    "    else:\n",
    "        raise ValueError(\"Unsupported model name\")\n",
    "\n",
    "    tokenizer = AutoTokenizer.from_pretrained(tokenizer_model_name)\n",
    "    model = model_class.from_pretrained(model_name, num_labels=2)\n",
    "\n",
    "    train_dataset = SarcasmDataset(train_texts, train_labels, tokenizer, max_length)\n",
    "    test_dataset = SarcasmDataset(test_texts, test_labels, tokenizer, max_length)\n",
    "\n",
    "    train_loader = DataLoader(train_dataset, batch_size=batch_size, shuffle=True)\n",
    "    test_loader = DataLoader(test_dataset, batch_size=batch_size, shuffle=False)\n",
    "\n",
    "    optimizer = AdamW(model.parameters(), lr=learning_rate)\n",
    "    criterion = torch.nn.CrossEntropyLoss()\n",
    "\n",
    "    # Training loop\n",
    "    device = torch.device(\"cuda\" if torch.cuda.is_available() else \"cpu\")\n",
    "    model.to(device)\n",
    "\n",
    "    train_losses = []\n",
    "    test_f1s = []\n",
    "    test_accuracies = []\n",
    "\n",
    "    best_accuracy = 0.0\n",
    "    best_f1 = 0.0\n",
    "\n",
    "    for epoch in range(num_epochs):\n",
    "        model.train()\n",
    "        total_loss = 0\n",
    "\n",
    "        for batch in tqdm(train_loader, desc=f\"Epoch {epoch + 1}/{num_epochs}\"):\n",
    "            input_ids = batch['input_ids'].to(device)\n",
    "            attention_mask = batch['attention_mask'].to(device)\n",
    "            labels = batch['label'].to(device)\n",
    "\n",
    "            optimizer.zero_grad()\n",
    "            outputs = model(input_ids, attention_mask=attention_mask, labels=labels)\n",
    "            loss = outputs.loss\n",
    "            total_loss += loss.item()\n",
    "\n",
    "            loss.backward()\n",
    "            optimizer.step()\n",
    "\n",
    "        # print(f\"Average training loss for epoch {epoch + 1}: {total_loss / len(train_loader)}\")\n",
    "        train_loss = total_loss / len(train_loader)\n",
    "        train_losses.append(train_loss)\n",
    "\n",
    "        # Evaluation\n",
    "        model.eval()\n",
    "        all_preds = []\n",
    "        all_labels = []\n",
    "        with torch.no_grad():\n",
    "            for batch in tqdm(test_loader, desc=\"Evaluating\"):\n",
    "                input_ids = batch['input_ids'].to(device)\n",
    "                attention_mask = batch['attention_mask'].to(device)\n",
    "                labels = batch['label'].to(device)\n",
    "\n",
    "                outputs = model(input_ids, attention_mask=attention_mask)\n",
    "                preds = torch.argmax(outputs.logits, dim=1).cpu().numpy()\n",
    "\n",
    "                all_preds.extend(preds)\n",
    "                all_labels.extend(labels.cpu().numpy())\n",
    "\n",
    "        test_accuracy = accuracy_score(all_labels, all_preds)\n",
    "        test_f1 = f1_score(all_labels, all_preds)\n",
    "\n",
    "        test_accuracies.append(test_accuracy)\n",
    "        test_f1s.append(test_f1)\n",
    "\n",
    "        # Plotting\n",
    "        # plt.figure(figsize=(12, 6))\n",
    "        # plt.plot(range(1, epoch + 2), train_losses[:epoch+1], label='Train')\n",
    "        # plt.title('Loss')\n",
    "        # plt.xlabel('Epochs')\n",
    "        # plt.ylabel('Loss')\n",
    "        # plt.legend()\n",
    "\n",
    "        # plt.subplot(1, 2, 2)\n",
    "        # plt.plot(range(1, epoch + 2), test_accuracies[:epoch+1], label='acc')\n",
    "        # plt.plot(range(1, epoch + 2), test_f1s[:epoch+1], label='f1')\n",
    "        # plt.title('Accuracy and f1 score')\n",
    "        # plt.xlabel('Epochs')\n",
    "        # plt.ylabel('Accuracy and f1')\n",
    "        # plt.legend()\n",
    "\n",
    "        # plt.tight_layout()\n",
    "        # plt.show()\n",
    "\n",
    "    best_model_path = f\"{model_path_to_save}_{num_epochs}_epochs\"\n",
    "    model.save_pretrained(best_model_path)\n",
    "\n",
    "    print(f\"Accuracy of {model_name}: {test_accuracy}\")\n",
    "    print(f\"F1-score of {model_name}: {test_f1}\")\n",
    "    print()\n",
    "    print()\n",
    "\n",
    "    return model"
   ]
  },
  {
   "cell_type": "code",
   "execution_count": 18,
   "metadata": {
    "colab": {
     "background_save": true,
     "base_uri": "https://localhost:8080/",
     "height": 269,
     "referenced_widgets": [
      "423b425622d14ce7a0ec5b0a735ef2a0",
      "0fb28605c58c4970bdc3ad2bf1299f73",
      "66a1f5eaac7f45d7a421bed569f32cb9",
      "7bee21744adf41929f91ebd78fb5fdaa",
      "f9504e7ebfcd44998053b4277393a9ea",
      "cf0fa633a70d4858a6586134171e7c3f",
      "2d1c6309c7bd475c9ad33b97648e5707",
      "ca35d5b3b16144f292e3e48e1d39646f",
      "ab5e4b4e671f46519d211edecd9733db",
      "dc1ff7b047ce4f929e1ecac0385c81ba",
      "2bc4f766f1ed4554843dda02beb155cf",
      "d60570a3f1824fd0bafa85611cbe553c",
      "fc8278b341c74497a0eaf0558114ad07",
      "95fa8543e97f452490e466255a9b6957",
      "3cfd75eddb03478980ba74438b7d7343",
      "1d15310930634916acb6ea3b7d17ddaf",
      "e35820ca830f4f36964311e3fe794212",
      "e5919368545143f1b4ac7ea07965a44c",
      "70426255cf3a4daea292fe9a919cffc7",
      "49a36dbc54434fd98f364288ff1ab84f",
      "f97ce82d843444458859d0f42b7e0f78",
      "2840a9ff272c47c7bef6c327eaf4c48d",
      "53a38de152344a21a317abec421decb5",
      "c6f1e157cd8a4f31a2cd99fe6f810d23",
      "2b9b081e2edf4489a35ab11e6c48c26b",
      "a61f7724cf1f45c7af3d736d54ebb89d",
      "ffa5f254eb384b7e90a458497c270158",
      "f0ce6e20886e44fbb225f85b3258adaf",
      "67a584b3c9bc4a9ab040a62695d7177a",
      "3d3658f8127d400eb84f0b15fe14074f",
      "008adab7e40e434e86531a6cd56aa444",
      "4ff1a12e82b34c0fb1425d0d785905e1",
      "2b24d8009bb84b459a4109777936de45",
      "4053048f065e4108981cee1aed3f4e27",
      "a9f5b6b5c6cc48c5a759082f38cd0c1b",
      "d6d02e3b81754ee8b1c9d7937dd5c062",
      "c144ba30d4f5481193adfb0295f4e8f0",
      "6af3f241ede24cb4ad36055329b6c580",
      "591ba7bcb158466db617127dc560c41d",
      "5dcab52a2462411a85af2351439054b7",
      "11123bd889fa4acea78fba940825478c",
      "806d538442754b848abb1292c9ea78f9",
      "a7f43a5d02b14c8bae210dda70aa596e",
      "ba073f72f58b429996a3c73b7e008617"
     ]
    },
    "id": "5YcQIdDhWHuq",
    "outputId": "70f0cb7b-bd4f-47d2-c9f1-478f0c86fe54"
   },
   "outputs": [
    {
     "name": "stdout",
     "output_type": "stream",
     "text": [
      "Evaluating model: electra\n"
     ]
    },
    {
     "name": "stderr",
     "output_type": "stream",
     "text": [
      "Some weights of ElectraForSequenceClassification were not initialized from the model checkpoint at google/electra-base-discriminator and are newly initialized: ['classifier.dense.bias', 'classifier.dense.weight', 'classifier.out_proj.bias', 'classifier.out_proj.weight']\n",
      "You should probably TRAIN this model on a down-stream task to be able to use it for predictions and inference.\n",
      "/usr/local/lib/python3.10/dist-packages/transformers/optimization.py:588: FutureWarning: This implementation of AdamW is deprecated and will be removed in a future version. Use the PyTorch implementation torch.optim.AdamW instead, or set `no_deprecation_warning=True` to disable this warning\n",
      "  warnings.warn(\n",
      "Epoch 1/5: 100%|██████████| 1521/1521 [04:08<00:00,  6.11it/s]\n",
      "Evaluating: 100%|██████████| 269/269 [00:14<00:00, 18.32it/s]\n",
      "Epoch 2/5: 100%|██████████| 1521/1521 [04:09<00:00,  6.09it/s]\n",
      "Evaluating: 100%|██████████| 269/269 [00:14<00:00, 18.26it/s]\n",
      "Epoch 3/5: 100%|██████████| 1521/1521 [04:09<00:00,  6.10it/s]\n",
      "Evaluating: 100%|██████████| 269/269 [00:14<00:00, 18.24it/s]\n",
      "Epoch 4/5: 100%|██████████| 1521/1521 [04:09<00:00,  6.10it/s]\n",
      "Evaluating: 100%|██████████| 269/269 [00:14<00:00, 18.24it/s]\n",
      "Epoch 5/5: 100%|██████████| 1521/1521 [04:09<00:00,  6.10it/s]\n",
      "Evaluating: 100%|██████████| 269/269 [00:14<00:00, 18.24it/s]\n"
     ]
    },
    {
     "name": "stdout",
     "output_type": "stream",
     "text": [
      "Accuracy of google/electra-base-discriminator: 0.9434094084769445\n",
      "F1-score of google/electra-base-discriminator: 0.940103524771999\n",
      "\n",
      "\n",
      "Evaluating model: roberta\n"
     ]
    },
    {
     "data": {
      "application/vnd.jupyter.widget-view+json": {
       "model_id": "8f51485c833d41639b2fc41eb01045a9",
       "version_major": 2,
       "version_minor": 0
      },
      "text/plain": [
       "tokenizer_config.json:   0%|          | 0.00/25.0 [00:00<?, ?B/s]"
      ]
     },
     "metadata": {},
     "output_type": "display_data"
    },
    {
     "name": "stderr",
     "output_type": "stream",
     "text": [
      "/usr/local/lib/python3.10/dist-packages/huggingface_hub/file_download.py:1132: FutureWarning: `resume_download` is deprecated and will be removed in version 1.0.0. Downloads always resume when possible. If you want to force a new download, use `force_download=True`.\n",
      "  warnings.warn(\n"
     ]
    },
    {
     "data": {
      "application/vnd.jupyter.widget-view+json": {
       "model_id": "b64cd32f16f44cc09445db73a594dc75",
       "version_major": 2,
       "version_minor": 0
      },
      "text/plain": [
       "config.json:   0%|          | 0.00/481 [00:00<?, ?B/s]"
      ]
     },
     "metadata": {},
     "output_type": "display_data"
    },
    {
     "data": {
      "application/vnd.jupyter.widget-view+json": {
       "model_id": "0f525cc7c7f84adebe5005d82474608c",
       "version_major": 2,
       "version_minor": 0
      },
      "text/plain": [
       "vocab.json:   0%|          | 0.00/899k [00:00<?, ?B/s]"
      ]
     },
     "metadata": {},
     "output_type": "display_data"
    },
    {
     "data": {
      "application/vnd.jupyter.widget-view+json": {
       "model_id": "3a15b84c755d467ba980b0ec6711a070",
       "version_major": 2,
       "version_minor": 0
      },
      "text/plain": [
       "merges.txt:   0%|          | 0.00/456k [00:00<?, ?B/s]"
      ]
     },
     "metadata": {},
     "output_type": "display_data"
    },
    {
     "data": {
      "application/vnd.jupyter.widget-view+json": {
       "model_id": "f31b7871337e4926b01096b841b87ffc",
       "version_major": 2,
       "version_minor": 0
      },
      "text/plain": [
       "tokenizer.json:   0%|          | 0.00/1.36M [00:00<?, ?B/s]"
      ]
     },
     "metadata": {},
     "output_type": "display_data"
    },
    {
     "name": "stderr",
     "output_type": "stream",
     "text": [
      "Some weights of RobertaForSequenceClassification were not initialized from the model checkpoint at roberta-base and are newly initialized: ['classifier.dense.bias', 'classifier.dense.weight', 'classifier.out_proj.bias', 'classifier.out_proj.weight']\n",
      "You should probably TRAIN this model on a down-stream task to be able to use it for predictions and inference.\n",
      "/usr/local/lib/python3.10/dist-packages/transformers/optimization.py:588: FutureWarning: This implementation of AdamW is deprecated and will be removed in a future version. Use the PyTorch implementation torch.optim.AdamW instead, or set `no_deprecation_warning=True` to disable this warning\n",
      "  warnings.warn(\n",
      "Epoch 1/5: 100%|██████████| 1521/1521 [04:13<00:00,  6.00it/s]\n",
      "Evaluating: 100%|██████████| 269/269 [00:14<00:00, 19.09it/s]\n",
      "Epoch 2/5: 100%|██████████| 1521/1521 [04:13<00:00,  5.99it/s]\n",
      "Evaluating: 100%|██████████| 269/269 [00:14<00:00, 19.10it/s]\n",
      "Epoch 3/5: 100%|██████████| 1521/1521 [04:14<00:00,  5.99it/s]\n",
      "Evaluating: 100%|██████████| 269/269 [00:14<00:00, 18.97it/s]\n",
      "Epoch 4/5: 100%|██████████| 1521/1521 [04:13<00:00,  6.00it/s]\n",
      "Evaluating: 100%|██████████| 269/269 [00:14<00:00, 19.08it/s]\n",
      "Epoch 5/5: 100%|██████████| 1521/1521 [04:13<00:00,  5.99it/s]\n",
      "Evaluating: 100%|██████████| 269/269 [00:14<00:00, 19.08it/s]\n"
     ]
    },
    {
     "name": "stdout",
     "output_type": "stream",
     "text": [
      "Accuracy of roberta-base: 0.9392175128085701\n",
      "F1-score of roberta-base: 0.9365117976161518\n",
      "\n",
      "\n",
      "Evaluating model: bert\n"
     ]
    },
    {
     "data": {
      "application/vnd.jupyter.widget-view+json": {
       "model_id": "52c0ca25b5164f57be40700f20c22945",
       "version_major": 2,
       "version_minor": 0
      },
      "text/plain": [
       "tokenizer_config.json:   0%|          | 0.00/48.0 [00:00<?, ?B/s]"
      ]
     },
     "metadata": {},
     "output_type": "display_data"
    },
    {
     "name": "stderr",
     "output_type": "stream",
     "text": [
      "/usr/local/lib/python3.10/dist-packages/huggingface_hub/file_download.py:1132: FutureWarning: `resume_download` is deprecated and will be removed in version 1.0.0. Downloads always resume when possible. If you want to force a new download, use `force_download=True`.\n",
      "  warnings.warn(\n"
     ]
    },
    {
     "data": {
      "application/vnd.jupyter.widget-view+json": {
       "model_id": "5e6f818536f9478fb021da17036ddde9",
       "version_major": 2,
       "version_minor": 0
      },
      "text/plain": [
       "config.json:   0%|          | 0.00/570 [00:00<?, ?B/s]"
      ]
     },
     "metadata": {},
     "output_type": "display_data"
    },
    {
     "data": {
      "application/vnd.jupyter.widget-view+json": {
       "model_id": "3192099a43854da496e6ebeda3ed28f5",
       "version_major": 2,
       "version_minor": 0
      },
      "text/plain": [
       "vocab.txt:   0%|          | 0.00/232k [00:00<?, ?B/s]"
      ]
     },
     "metadata": {},
     "output_type": "display_data"
    },
    {
     "data": {
      "application/vnd.jupyter.widget-view+json": {
       "model_id": "e73a7779e8e64888ac37664c926847a6",
       "version_major": 2,
       "version_minor": 0
      },
      "text/plain": [
       "tokenizer.json:   0%|          | 0.00/466k [00:00<?, ?B/s]"
      ]
     },
     "metadata": {},
     "output_type": "display_data"
    },
    {
     "name": "stderr",
     "output_type": "stream",
     "text": [
      "Some weights of BertForSequenceClassification were not initialized from the model checkpoint at bert-base-uncased and are newly initialized: ['classifier.bias', 'classifier.weight']\n",
      "You should probably TRAIN this model on a down-stream task to be able to use it for predictions and inference.\n",
      "/usr/local/lib/python3.10/dist-packages/transformers/optimization.py:588: FutureWarning: This implementation of AdamW is deprecated and will be removed in a future version. Use the PyTorch implementation torch.optim.AdamW instead, or set `no_deprecation_warning=True` to disable this warning\n",
      "  warnings.warn(\n",
      "Epoch 1/5: 100%|██████████| 1521/1521 [04:09<00:00,  6.09it/s]\n",
      "Evaluating: 100%|██████████| 269/269 [00:14<00:00, 18.04it/s]\n",
      "Epoch 2/5: 100%|██████████| 1521/1521 [04:09<00:00,  6.09it/s]\n",
      "Evaluating: 100%|██████████| 269/269 [00:14<00:00, 18.07it/s]\n",
      "Epoch 3/5: 100%|██████████| 1521/1521 [04:09<00:00,  6.10it/s]\n",
      "Evaluating: 100%|██████████| 269/269 [00:14<00:00, 18.17it/s]\n",
      "Epoch 4/5: 100%|██████████| 1521/1521 [04:09<00:00,  6.09it/s]\n",
      "Evaluating: 100%|██████████| 269/269 [00:14<00:00, 18.09it/s]\n",
      "Epoch 5/5: 100%|██████████| 1521/1521 [04:09<00:00,  6.09it/s]\n",
      "Evaluating: 100%|██████████| 269/269 [00:14<00:00, 18.05it/s]\n"
     ]
    },
    {
     "name": "stdout",
     "output_type": "stream",
     "text": [
      "Accuracy of bert-base-uncased: 0.9280391243595715\n",
      "F1-score of bert-base-uncased: 0.9246892517669998\n",
      "\n",
      "\n"
     ]
    }
   ],
   "source": [
    "train_texts = train_sents\n",
    "train_labels = train_labels\n",
    "test_texts = test_sents\n",
    "test_labels = test_labels\n",
    "\n",
    "models_to_try = [\"electra\", \"roberta\", \"bert\"]\n",
    "\n",
    "for model_name in models_to_try:\n",
    "    print(f\"Evaluating model: {model_name}\")\n",
    "    num_epochs = 5\n",
    "    model_path_to_save = model_name\n",
    "    model = train_evaluate_model(model_name, model_path_to_save,\n",
    "                                 train_texts, train_labels, \n",
    "                                 test_texts, test_labels, \n",
    "                                 num_epochs=num_epochs)\n"
   ]
  },
  {
   "cell_type": "code",
   "execution_count": 26,
   "metadata": {},
   "outputs": [],
   "source": [
    "# function to save embeddings of best models\n",
    "def get_embeddings(model, tokenizer, sentences, batch_size=64):\n",
    "    num_sentences = len(sentences)\n",
    "    embeddings = []\n",
    "\n",
    "    device = torch.device(\"cuda\" if torch.cuda.is_available() else \"cpu\")\n",
    "    model.to(device)\n",
    "    model.eval()\n",
    "\n",
    "    for start_index in tqdm(range(0, num_sentences, batch_size)):\n",
    "        batch_sentences = sentences[start_index:start_index + batch_size]\n",
    "        inputs = tokenizer(batch_sentences, return_tensors=\"pt\", padding=True, truncation=True)\n",
    "        inputs = {key: value.to(device) for key, value in inputs.items()}\n",
    "        \n",
    "        with torch.no_grad():\n",
    "            outputs = model(**inputs, output_hidden_states=True)\n",
    "            hidden_states = outputs.hidden_states  # Get all hidden states\n",
    "\n",
    "        batch_embeddings = hidden_states[-1][:, 0, :].detach().cpu().numpy()\n",
    "        embeddings.append(batch_embeddings)\n",
    "\n",
    "    embeddings = np.concatenate(embeddings, axis=0)\n",
    "    return embeddings"
   ]
  },
  {
   "cell_type": "markdown",
   "metadata": {},
   "source": [
    "# Finetuning of BERT-based models for news headlines with SYNTHETIC data"
   ]
  },
  {
   "cell_type": "code",
   "execution_count": 27,
   "metadata": {},
   "outputs": [],
   "source": [
    "# train_sents,test_sents, train_labels, test_labels  = train_test_split(sentences,labels,test_size=0.15)\n",
    "data_train = pd.read_json(\"train_Sarcasm_Headlines_Dataset.json\", lines=True)\n",
    "train_labels = data_train.is_sarcastic.values\n",
    "train_sents = data_train.headline.values\n",
    "\n",
    "data_test = pd.read_json(\"test_Sarcasm_Headlines_Dataset.json\", lines=True)\n",
    "test_labels = data_test.is_sarcastic.values\n",
    "test_sents = data_test.headline.values\n"
   ]
  },
  {
   "cell_type": "code",
   "execution_count": 28,
   "metadata": {},
   "outputs": [
    {
     "data": {
      "text/html": [
       "<div>\n",
       "<style scoped>\n",
       "    .dataframe tbody tr th:only-of-type {\n",
       "        vertical-align: middle;\n",
       "    }\n",
       "\n",
       "    .dataframe tbody tr th {\n",
       "        vertical-align: top;\n",
       "    }\n",
       "\n",
       "    .dataframe thead th {\n",
       "        text-align: right;\n",
       "    }\n",
       "</style>\n",
       "<table border=\"1\" class=\"dataframe\">\n",
       "  <thead>\n",
       "    <tr style=\"text-align: right;\">\n",
       "      <th></th>\n",
       "      <th>Unnamed: 0</th>\n",
       "      <th>generated_sentence</th>\n",
       "      <th>is_sarcastic</th>\n",
       "    </tr>\n",
       "  </thead>\n",
       "  <tbody>\n",
       "    <tr>\n",
       "      <th>0</th>\n",
       "      <td>0</td>\n",
       "      <td>\"Cat Owners Demand Answers After Feline Overlo...</td>\n",
       "      <td>1</td>\n",
       "    </tr>\n",
       "    <tr>\n",
       "      <th>1</th>\n",
       "      <td>1</td>\n",
       "      <td>\"Experts Warn: Climate Change Denial to Cost E...</td>\n",
       "      <td>0</td>\n",
       "    </tr>\n",
       "    <tr>\n",
       "      <th>2</th>\n",
       "      <td>2</td>\n",
       "      <td>\"Experts Warn of \"Climate Catastrophe\": 10 Ala...</td>\n",
       "      <td>0</td>\n",
       "    </tr>\n",
       "    <tr>\n",
       "      <th>3</th>\n",
       "      <td>3</td>\n",
       "      <td>\"Cats Proven to be More Interesting Than Human...</td>\n",
       "      <td>1</td>\n",
       "    </tr>\n",
       "    <tr>\n",
       "      <th>4</th>\n",
       "      <td>4</td>\n",
       "      <td>\"Cats Finally Learn to Not Sh*t on the Same Sp...</td>\n",
       "      <td>1</td>\n",
       "    </tr>\n",
       "  </tbody>\n",
       "</table>\n",
       "</div>"
      ],
      "text/plain": [
       "   Unnamed: 0                                 generated_sentence  is_sarcastic\n",
       "0           0  \"Cat Owners Demand Answers After Feline Overlo...             1\n",
       "1           1  \"Experts Warn: Climate Change Denial to Cost E...             0\n",
       "2           2  \"Experts Warn of \"Climate Catastrophe\": 10 Ala...             0\n",
       "3           3  \"Cats Proven to be More Interesting Than Human...             1\n",
       "4           4  \"Cats Finally Learn to Not Sh*t on the Same Sp...             1"
      ]
     },
     "execution_count": 28,
     "metadata": {},
     "output_type": "execute_result"
    }
   ],
   "source": [
    "data_gen = pd.read_csv(\"sarcasm_headlines_synthetic__FULL__Llama_3_topp95_temp_7.csv\")\n",
    "labels_gen = data_gen.is_sarcastic.values\n",
    "sentences_gen = data_gen.generated_sentence.values\n",
    "data_gen.head()\n",
    "# sentences_gen"
   ]
  },
  {
   "cell_type": "code",
   "execution_count": 30,
   "metadata": {
    "id": "Wy7GS22KjwPN"
   },
   "outputs": [
    {
     "name": "stdout",
     "output_type": "stream",
     "text": [
      "Evaluating model: electra\n"
     ]
    },
    {
     "name": "stderr",
     "output_type": "stream",
     "text": [
      "Some weights of ElectraForSequenceClassification were not initialized from the model checkpoint at google/electra-base-discriminator and are newly initialized: ['classifier.dense.bias', 'classifier.dense.weight', 'classifier.out_proj.bias', 'classifier.out_proj.weight']\n",
      "You should probably TRAIN this model on a down-stream task to be able to use it for predictions and inference.\n",
      "Epoch 1/5: 100%|██████████| 3309/3309 [09:03<00:00,  6.09it/s]\n",
      "Evaluating: 100%|██████████| 269/269 [00:14<00:00, 18.20it/s]\n",
      "Epoch 2/5: 100%|██████████| 3309/3309 [09:03<00:00,  6.09it/s]\n",
      "Evaluating: 100%|██████████| 269/269 [00:14<00:00, 18.27it/s]\n",
      "Epoch 3/5: 100%|██████████| 3309/3309 [09:03<00:00,  6.09it/s]\n",
      "Evaluating: 100%|██████████| 269/269 [00:14<00:00, 18.17it/s]\n",
      "Epoch 4/5: 100%|██████████| 3309/3309 [09:03<00:00,  6.08it/s]\n",
      "Evaluating: 100%|██████████| 269/269 [00:14<00:00, 18.19it/s]\n",
      "Epoch 5/5: 100%|██████████| 3309/3309 [09:03<00:00,  6.09it/s]\n",
      "Evaluating: 100%|██████████| 269/269 [00:14<00:00, 18.15it/s]\n"
     ]
    },
    {
     "name": "stdout",
     "output_type": "stream",
     "text": [
      "Accuracy of google/electra-base-discriminator: 0.9457382394038193\n",
      "F1-score of google/electra-base-discriminator: 0.9419965148120488\n",
      "\n",
      "\n"
     ]
    }
   ],
   "source": [
    "train_texts_gen = np.concatenate((train_sents, sentences_gen))\n",
    "train_labels_gen = np.concatenate((train_labels, labels_gen))\n",
    "test_texts_gen = test_sents\n",
    "test_labels_gen = test_labels\n",
    "\n",
    "models_to_try = [ \"electra\"]\n",
    "\n",
    "for model_name in models_to_try:\n",
    "    print(f\"Evaluating model: {model_name}\")\n",
    "    num_epochs = 5\n",
    "    model_path_to_save = model_name + \"_with_synt\"\n",
    "    model = train_evaluate_model(model_name, model_path_to_save,\n",
    "                                 train_texts_gen, train_labels_gen,\n",
    "                                 test_texts_gen, test_labels_gen, \n",
    "                                 num_epochs=num_epochs)\n",
    "\n",
    "    \n"
   ]
  },
  {
   "cell_type": "markdown",
   "metadata": {
    "id": "wS7FLgUCnmCw"
   },
   "source": [
    "# Cross domain testing"
   ]
  },
  {
   "cell_type": "code",
   "execution_count": 31,
   "metadata": {},
   "outputs": [],
   "source": [
    "# train_sents,test_sents, train_labels, test_labels  = train_test_split(sentences,labels,test_size=0.15)\n",
    "data_train = pd.read_json(\"train_Sarcasm_Headlines_Dataset.json\", lines=True)\n",
    "train_labels = data_train.is_sarcastic.values\n",
    "train_sents = data_train.headline.values\n",
    "\n",
    "data_test = pd.read_json(\"test_Sarcasm_Headlines_Dataset.json\", lines=True)\n",
    "test_labels = data_test.is_sarcastic.values\n",
    "test_sents = data_test.headline.values\n"
   ]
  },
  {
   "cell_type": "code",
   "execution_count": 32,
   "metadata": {},
   "outputs": [
    {
     "data": {
      "text/html": [
       "<div>\n",
       "<style scoped>\n",
       "    .dataframe tbody tr th:only-of-type {\n",
       "        vertical-align: middle;\n",
       "    }\n",
       "\n",
       "    .dataframe tbody tr th {\n",
       "        vertical-align: top;\n",
       "    }\n",
       "\n",
       "    .dataframe thead th {\n",
       "        text-align: right;\n",
       "    }\n",
       "</style>\n",
       "<table border=\"1\" class=\"dataframe\">\n",
       "  <thead>\n",
       "    <tr style=\"text-align: right;\">\n",
       "      <th></th>\n",
       "      <th>text</th>\n",
       "      <th>sarcastic</th>\n",
       "    </tr>\n",
       "  </thead>\n",
       "  <tbody>\n",
       "    <tr>\n",
       "      <th>0</th>\n",
       "      <td>Size on the the Toulouse team, That pack is mo...</td>\n",
       "      <td>0</td>\n",
       "    </tr>\n",
       "    <tr>\n",
       "      <th>1</th>\n",
       "      <td>Pinball!</td>\n",
       "      <td>0</td>\n",
       "    </tr>\n",
       "    <tr>\n",
       "      <th>2</th>\n",
       "      <td>So the Scottish Government want people to get ...</td>\n",
       "      <td>1</td>\n",
       "    </tr>\n",
       "    <tr>\n",
       "      <th>3</th>\n",
       "      <td>villainous pro tip : change the device name on...</td>\n",
       "      <td>0</td>\n",
       "    </tr>\n",
       "    <tr>\n",
       "      <th>4</th>\n",
       "      <td>I would date any of these men 🥺</td>\n",
       "      <td>0</td>\n",
       "    </tr>\n",
       "  </tbody>\n",
       "</table>\n",
       "</div>"
      ],
      "text/plain": [
       "                                                text  sarcastic\n",
       "0  Size on the the Toulouse team, That pack is mo...          0\n",
       "1                                           Pinball!          0\n",
       "2  So the Scottish Government want people to get ...          1\n",
       "3  villainous pro tip : change the device name on...          0\n",
       "4                    I would date any of these men 🥺          0"
      ]
     },
     "execution_count": 32,
     "metadata": {},
     "output_type": "execute_result"
    }
   ],
   "source": [
    "data1 = pd.read_csv(\"isarcasm_test.csv\")\n",
    "data2 = pd.read_csv(\"isarcasm_train.csv\")\n",
    "\n",
    "labels_isarc = data1.sarcastic.values\n",
    "sentences_isarc = data1.text.values\n",
    "\n",
    "# labels_isarc =  np.concatenate((data1.sarcastic.values,\n",
    "#                                 data2.sarcastic.values))\n",
    "# sentences_isarc = np.concatenate((data1.text.values,\n",
    "#                                   data2.tweet.values))\n",
    "data1.head()"
   ]
  },
  {
   "cell_type": "code",
   "execution_count": 33,
   "metadata": {},
   "outputs": [
    {
     "name": "stdout",
     "output_type": "stream",
     "text": [
      "Evaluating model: electra\n"
     ]
    },
    {
     "name": "stderr",
     "output_type": "stream",
     "text": [
      "Some weights of ElectraForSequenceClassification were not initialized from the model checkpoint at google/electra-base-discriminator and are newly initialized: ['classifier.dense.bias', 'classifier.dense.weight', 'classifier.out_proj.bias', 'classifier.out_proj.weight']\n",
      "You should probably TRAIN this model on a down-stream task to be able to use it for predictions and inference.\n",
      "/usr/local/lib/python3.10/dist-packages/transformers/optimization.py:588: FutureWarning: This implementation of AdamW is deprecated and will be removed in a future version. Use the PyTorch implementation torch.optim.AdamW instead, or set `no_deprecation_warning=True` to disable this warning\n",
      "  warnings.warn(\n",
      "Epoch 1/5: 100%|██████████| 1789/1789 [04:53<00:00,  6.10it/s]\n",
      "Evaluating: 100%|██████████| 88/88 [00:04<00:00, 18.21it/s]\n",
      "Epoch 2/5: 100%|██████████| 1789/1789 [04:53<00:00,  6.10it/s]\n",
      "Evaluating: 100%|██████████| 88/88 [00:04<00:00, 18.17it/s]\n",
      "Epoch 3/5: 100%|██████████| 1789/1789 [04:53<00:00,  6.10it/s]\n",
      "Evaluating: 100%|██████████| 88/88 [00:04<00:00, 18.12it/s]\n",
      "Epoch 4/5: 100%|██████████| 1789/1789 [04:53<00:00,  6.10it/s]\n",
      "Evaluating: 100%|██████████| 88/88 [00:04<00:00, 18.26it/s]\n",
      "Epoch 5/5: 100%|██████████| 1789/1789 [04:53<00:00,  6.10it/s]\n",
      "Evaluating: 100%|██████████| 88/88 [00:04<00:00, 18.17it/s]\n"
     ]
    },
    {
     "name": "stdout",
     "output_type": "stream",
     "text": [
      "Accuracy of google/electra-base-discriminator: 0.6642857142857143\n",
      "F1-score of google/electra-base-discriminator: 0.1840277777777778\n",
      "\n",
      "\n"
     ]
    }
   ],
   "source": [
    "train_texts_full = np.concatenate((train_sents, test_sents))\n",
    "train_labels_full = np.concatenate((train_labels, test_labels))\n",
    "test_texts_isarc = sentences_isarc\n",
    "test_labels_isarc = labels_isarc\n",
    "\n",
    "models_to_try = [\"electra\"]\n",
    "\n",
    "for model_name in models_to_try:\n",
    "    print(f\"Evaluating model: {model_name}\")\n",
    "    num_epochs = 5\n",
    "    model_path_to_save = model_name + \"_full\"\n",
    "    model = train_evaluate_model(model_name, model_path_to_save,\n",
    "                                 train_texts_full, train_labels_full,\n",
    "                                 test_texts_isarc, test_labels_isarc, \n",
    "                                 num_epochs=num_epochs)\n",
    "\n",
    "    \n"
   ]
  },
  {
   "cell_type": "code",
   "execution_count": null,
   "metadata": {},
   "outputs": [],
   "source": []
  }
 ],
 "metadata": {
  "accelerator": "GPU",
  "colab": {
   "gpuType": "T4",
   "provenance": []
  },
  "kernelspec": {
   "display_name": "Python 3 (ipykernel)",
   "language": "python",
   "name": "python3"
  },
  "language_info": {
   "codemirror_mode": {
    "name": "ipython",
    "version": 3
   },
   "file_extension": ".py",
   "mimetype": "text/x-python",
   "name": "python",
   "nbconvert_exporter": "python",
   "pygments_lexer": "ipython3",
   "version": "3.10.12"
  },
  "widgets": {
   "application/vnd.jupyter.widget-state+json": {
    "008adab7e40e434e86531a6cd56aa444": {
     "model_module": "@jupyter-widgets/controls",
     "model_module_version": "1.5.0",
     "model_name": "ProgressStyleModel",
     "state": {
      "_model_module": "@jupyter-widgets/controls",
      "_model_module_version": "1.5.0",
      "_model_name": "ProgressStyleModel",
      "_view_count": null,
      "_view_module": "@jupyter-widgets/base",
      "_view_module_version": "1.2.0",
      "_view_name": "StyleView",
      "bar_color": null,
      "description_width": ""
     }
    },
    "0fb28605c58c4970bdc3ad2bf1299f73": {
     "model_module": "@jupyter-widgets/controls",
     "model_module_version": "1.5.0",
     "model_name": "HTMLModel",
     "state": {
      "_dom_classes": [],
      "_model_module": "@jupyter-widgets/controls",
      "_model_module_version": "1.5.0",
      "_model_name": "HTMLModel",
      "_view_count": null,
      "_view_module": "@jupyter-widgets/controls",
      "_view_module_version": "1.5.0",
      "_view_name": "HTMLView",
      "description": "",
      "description_tooltip": null,
      "layout": "IPY_MODEL_cf0fa633a70d4858a6586134171e7c3f",
      "placeholder": "​",
      "style": "IPY_MODEL_2d1c6309c7bd475c9ad33b97648e5707",
      "value": "tokenizer_config.json: 100%"
     }
    },
    "11123bd889fa4acea78fba940825478c": {
     "model_module": "@jupyter-widgets/base",
     "model_module_version": "1.2.0",
     "model_name": "LayoutModel",
     "state": {
      "_model_module": "@jupyter-widgets/base",
      "_model_module_version": "1.2.0",
      "_model_name": "LayoutModel",
      "_view_count": null,
      "_view_module": "@jupyter-widgets/base",
      "_view_module_version": "1.2.0",
      "_view_name": "LayoutView",
      "align_content": null,
      "align_items": null,
      "align_self": null,
      "border": null,
      "bottom": null,
      "display": null,
      "flex": null,
      "flex_flow": null,
      "grid_area": null,
      "grid_auto_columns": null,
      "grid_auto_flow": null,
      "grid_auto_rows": null,
      "grid_column": null,
      "grid_gap": null,
      "grid_row": null,
      "grid_template_areas": null,
      "grid_template_columns": null,
      "grid_template_rows": null,
      "height": null,
      "justify_content": null,
      "justify_items": null,
      "left": null,
      "margin": null,
      "max_height": null,
      "max_width": null,
      "min_height": null,
      "min_width": null,
      "object_fit": null,
      "object_position": null,
      "order": null,
      "overflow": null,
      "overflow_x": null,
      "overflow_y": null,
      "padding": null,
      "right": null,
      "top": null,
      "visibility": null,
      "width": null
     }
    },
    "1d15310930634916acb6ea3b7d17ddaf": {
     "model_module": "@jupyter-widgets/base",
     "model_module_version": "1.2.0",
     "model_name": "LayoutModel",
     "state": {
      "_model_module": "@jupyter-widgets/base",
      "_model_module_version": "1.2.0",
      "_model_name": "LayoutModel",
      "_view_count": null,
      "_view_module": "@jupyter-widgets/base",
      "_view_module_version": "1.2.0",
      "_view_name": "LayoutView",
      "align_content": null,
      "align_items": null,
      "align_self": null,
      "border": null,
      "bottom": null,
      "display": null,
      "flex": null,
      "flex_flow": null,
      "grid_area": null,
      "grid_auto_columns": null,
      "grid_auto_flow": null,
      "grid_auto_rows": null,
      "grid_column": null,
      "grid_gap": null,
      "grid_row": null,
      "grid_template_areas": null,
      "grid_template_columns": null,
      "grid_template_rows": null,
      "height": null,
      "justify_content": null,
      "justify_items": null,
      "left": null,
      "margin": null,
      "max_height": null,
      "max_width": null,
      "min_height": null,
      "min_width": null,
      "object_fit": null,
      "object_position": null,
      "order": null,
      "overflow": null,
      "overflow_x": null,
      "overflow_y": null,
      "padding": null,
      "right": null,
      "top": null,
      "visibility": null,
      "width": null
     }
    },
    "2840a9ff272c47c7bef6c327eaf4c48d": {
     "model_module": "@jupyter-widgets/controls",
     "model_module_version": "1.5.0",
     "model_name": "DescriptionStyleModel",
     "state": {
      "_model_module": "@jupyter-widgets/controls",
      "_model_module_version": "1.5.0",
      "_model_name": "DescriptionStyleModel",
      "_view_count": null,
      "_view_module": "@jupyter-widgets/base",
      "_view_module_version": "1.2.0",
      "_view_name": "StyleView",
      "description_width": ""
     }
    },
    "2b24d8009bb84b459a4109777936de45": {
     "model_module": "@jupyter-widgets/controls",
     "model_module_version": "1.5.0",
     "model_name": "DescriptionStyleModel",
     "state": {
      "_model_module": "@jupyter-widgets/controls",
      "_model_module_version": "1.5.0",
      "_model_name": "DescriptionStyleModel",
      "_view_count": null,
      "_view_module": "@jupyter-widgets/base",
      "_view_module_version": "1.2.0",
      "_view_name": "StyleView",
      "description_width": ""
     }
    },
    "2b9b081e2edf4489a35ab11e6c48c26b": {
     "model_module": "@jupyter-widgets/controls",
     "model_module_version": "1.5.0",
     "model_name": "FloatProgressModel",
     "state": {
      "_dom_classes": [],
      "_model_module": "@jupyter-widgets/controls",
      "_model_module_version": "1.5.0",
      "_model_name": "FloatProgressModel",
      "_view_count": null,
      "_view_module": "@jupyter-widgets/controls",
      "_view_module_version": "1.5.0",
      "_view_name": "ProgressView",
      "bar_style": "success",
      "description": "",
      "description_tooltip": null,
      "layout": "IPY_MODEL_3d3658f8127d400eb84f0b15fe14074f",
      "max": 231508,
      "min": 0,
      "orientation": "horizontal",
      "style": "IPY_MODEL_008adab7e40e434e86531a6cd56aa444",
      "value": 231508
     }
    },
    "2bc4f766f1ed4554843dda02beb155cf": {
     "model_module": "@jupyter-widgets/controls",
     "model_module_version": "1.5.0",
     "model_name": "DescriptionStyleModel",
     "state": {
      "_model_module": "@jupyter-widgets/controls",
      "_model_module_version": "1.5.0",
      "_model_name": "DescriptionStyleModel",
      "_view_count": null,
      "_view_module": "@jupyter-widgets/base",
      "_view_module_version": "1.2.0",
      "_view_name": "StyleView",
      "description_width": ""
     }
    },
    "2d1c6309c7bd475c9ad33b97648e5707": {
     "model_module": "@jupyter-widgets/controls",
     "model_module_version": "1.5.0",
     "model_name": "DescriptionStyleModel",
     "state": {
      "_model_module": "@jupyter-widgets/controls",
      "_model_module_version": "1.5.0",
      "_model_name": "DescriptionStyleModel",
      "_view_count": null,
      "_view_module": "@jupyter-widgets/base",
      "_view_module_version": "1.2.0",
      "_view_name": "StyleView",
      "description_width": ""
     }
    },
    "3cfd75eddb03478980ba74438b7d7343": {
     "model_module": "@jupyter-widgets/controls",
     "model_module_version": "1.5.0",
     "model_name": "HTMLModel",
     "state": {
      "_dom_classes": [],
      "_model_module": "@jupyter-widgets/controls",
      "_model_module_version": "1.5.0",
      "_model_name": "HTMLModel",
      "_view_count": null,
      "_view_module": "@jupyter-widgets/controls",
      "_view_module_version": "1.5.0",
      "_view_name": "HTMLView",
      "description": "",
      "description_tooltip": null,
      "layout": "IPY_MODEL_f97ce82d843444458859d0f42b7e0f78",
      "placeholder": "​",
      "style": "IPY_MODEL_2840a9ff272c47c7bef6c327eaf4c48d",
      "value": " 570/570 [00:00&lt;00:00, 22.1kB/s]"
     }
    },
    "3d3658f8127d400eb84f0b15fe14074f": {
     "model_module": "@jupyter-widgets/base",
     "model_module_version": "1.2.0",
     "model_name": "LayoutModel",
     "state": {
      "_model_module": "@jupyter-widgets/base",
      "_model_module_version": "1.2.0",
      "_model_name": "LayoutModel",
      "_view_count": null,
      "_view_module": "@jupyter-widgets/base",
      "_view_module_version": "1.2.0",
      "_view_name": "LayoutView",
      "align_content": null,
      "align_items": null,
      "align_self": null,
      "border": null,
      "bottom": null,
      "display": null,
      "flex": null,
      "flex_flow": null,
      "grid_area": null,
      "grid_auto_columns": null,
      "grid_auto_flow": null,
      "grid_auto_rows": null,
      "grid_column": null,
      "grid_gap": null,
      "grid_row": null,
      "grid_template_areas": null,
      "grid_template_columns": null,
      "grid_template_rows": null,
      "height": null,
      "justify_content": null,
      "justify_items": null,
      "left": null,
      "margin": null,
      "max_height": null,
      "max_width": null,
      "min_height": null,
      "min_width": null,
      "object_fit": null,
      "object_position": null,
      "order": null,
      "overflow": null,
      "overflow_x": null,
      "overflow_y": null,
      "padding": null,
      "right": null,
      "top": null,
      "visibility": null,
      "width": null
     }
    },
    "4053048f065e4108981cee1aed3f4e27": {
     "model_module": "@jupyter-widgets/controls",
     "model_module_version": "1.5.0",
     "model_name": "HBoxModel",
     "state": {
      "_dom_classes": [],
      "_model_module": "@jupyter-widgets/controls",
      "_model_module_version": "1.5.0",
      "_model_name": "HBoxModel",
      "_view_count": null,
      "_view_module": "@jupyter-widgets/controls",
      "_view_module_version": "1.5.0",
      "_view_name": "HBoxView",
      "box_style": "",
      "children": [
       "IPY_MODEL_a9f5b6b5c6cc48c5a759082f38cd0c1b",
       "IPY_MODEL_d6d02e3b81754ee8b1c9d7937dd5c062",
       "IPY_MODEL_c144ba30d4f5481193adfb0295f4e8f0"
      ],
      "layout": "IPY_MODEL_6af3f241ede24cb4ad36055329b6c580"
     }
    },
    "423b425622d14ce7a0ec5b0a735ef2a0": {
     "model_module": "@jupyter-widgets/controls",
     "model_module_version": "1.5.0",
     "model_name": "HBoxModel",
     "state": {
      "_dom_classes": [],
      "_model_module": "@jupyter-widgets/controls",
      "_model_module_version": "1.5.0",
      "_model_name": "HBoxModel",
      "_view_count": null,
      "_view_module": "@jupyter-widgets/controls",
      "_view_module_version": "1.5.0",
      "_view_name": "HBoxView",
      "box_style": "",
      "children": [
       "IPY_MODEL_0fb28605c58c4970bdc3ad2bf1299f73",
       "IPY_MODEL_66a1f5eaac7f45d7a421bed569f32cb9",
       "IPY_MODEL_7bee21744adf41929f91ebd78fb5fdaa"
      ],
      "layout": "IPY_MODEL_f9504e7ebfcd44998053b4277393a9ea"
     }
    },
    "49a36dbc54434fd98f364288ff1ab84f": {
     "model_module": "@jupyter-widgets/controls",
     "model_module_version": "1.5.0",
     "model_name": "ProgressStyleModel",
     "state": {
      "_model_module": "@jupyter-widgets/controls",
      "_model_module_version": "1.5.0",
      "_model_name": "ProgressStyleModel",
      "_view_count": null,
      "_view_module": "@jupyter-widgets/base",
      "_view_module_version": "1.2.0",
      "_view_name": "StyleView",
      "bar_color": null,
      "description_width": ""
     }
    },
    "4ff1a12e82b34c0fb1425d0d785905e1": {
     "model_module": "@jupyter-widgets/base",
     "model_module_version": "1.2.0",
     "model_name": "LayoutModel",
     "state": {
      "_model_module": "@jupyter-widgets/base",
      "_model_module_version": "1.2.0",
      "_model_name": "LayoutModel",
      "_view_count": null,
      "_view_module": "@jupyter-widgets/base",
      "_view_module_version": "1.2.0",
      "_view_name": "LayoutView",
      "align_content": null,
      "align_items": null,
      "align_self": null,
      "border": null,
      "bottom": null,
      "display": null,
      "flex": null,
      "flex_flow": null,
      "grid_area": null,
      "grid_auto_columns": null,
      "grid_auto_flow": null,
      "grid_auto_rows": null,
      "grid_column": null,
      "grid_gap": null,
      "grid_row": null,
      "grid_template_areas": null,
      "grid_template_columns": null,
      "grid_template_rows": null,
      "height": null,
      "justify_content": null,
      "justify_items": null,
      "left": null,
      "margin": null,
      "max_height": null,
      "max_width": null,
      "min_height": null,
      "min_width": null,
      "object_fit": null,
      "object_position": null,
      "order": null,
      "overflow": null,
      "overflow_x": null,
      "overflow_y": null,
      "padding": null,
      "right": null,
      "top": null,
      "visibility": null,
      "width": null
     }
    },
    "53a38de152344a21a317abec421decb5": {
     "model_module": "@jupyter-widgets/controls",
     "model_module_version": "1.5.0",
     "model_name": "HBoxModel",
     "state": {
      "_dom_classes": [],
      "_model_module": "@jupyter-widgets/controls",
      "_model_module_version": "1.5.0",
      "_model_name": "HBoxModel",
      "_view_count": null,
      "_view_module": "@jupyter-widgets/controls",
      "_view_module_version": "1.5.0",
      "_view_name": "HBoxView",
      "box_style": "",
      "children": [
       "IPY_MODEL_c6f1e157cd8a4f31a2cd99fe6f810d23",
       "IPY_MODEL_2b9b081e2edf4489a35ab11e6c48c26b",
       "IPY_MODEL_a61f7724cf1f45c7af3d736d54ebb89d"
      ],
      "layout": "IPY_MODEL_ffa5f254eb384b7e90a458497c270158"
     }
    },
    "591ba7bcb158466db617127dc560c41d": {
     "model_module": "@jupyter-widgets/base",
     "model_module_version": "1.2.0",
     "model_name": "LayoutModel",
     "state": {
      "_model_module": "@jupyter-widgets/base",
      "_model_module_version": "1.2.0",
      "_model_name": "LayoutModel",
      "_view_count": null,
      "_view_module": "@jupyter-widgets/base",
      "_view_module_version": "1.2.0",
      "_view_name": "LayoutView",
      "align_content": null,
      "align_items": null,
      "align_self": null,
      "border": null,
      "bottom": null,
      "display": null,
      "flex": null,
      "flex_flow": null,
      "grid_area": null,
      "grid_auto_columns": null,
      "grid_auto_flow": null,
      "grid_auto_rows": null,
      "grid_column": null,
      "grid_gap": null,
      "grid_row": null,
      "grid_template_areas": null,
      "grid_template_columns": null,
      "grid_template_rows": null,
      "height": null,
      "justify_content": null,
      "justify_items": null,
      "left": null,
      "margin": null,
      "max_height": null,
      "max_width": null,
      "min_height": null,
      "min_width": null,
      "object_fit": null,
      "object_position": null,
      "order": null,
      "overflow": null,
      "overflow_x": null,
      "overflow_y": null,
      "padding": null,
      "right": null,
      "top": null,
      "visibility": null,
      "width": null
     }
    },
    "5dcab52a2462411a85af2351439054b7": {
     "model_module": "@jupyter-widgets/controls",
     "model_module_version": "1.5.0",
     "model_name": "DescriptionStyleModel",
     "state": {
      "_model_module": "@jupyter-widgets/controls",
      "_model_module_version": "1.5.0",
      "_model_name": "DescriptionStyleModel",
      "_view_count": null,
      "_view_module": "@jupyter-widgets/base",
      "_view_module_version": "1.2.0",
      "_view_name": "StyleView",
      "description_width": ""
     }
    },
    "66a1f5eaac7f45d7a421bed569f32cb9": {
     "model_module": "@jupyter-widgets/controls",
     "model_module_version": "1.5.0",
     "model_name": "FloatProgressModel",
     "state": {
      "_dom_classes": [],
      "_model_module": "@jupyter-widgets/controls",
      "_model_module_version": "1.5.0",
      "_model_name": "FloatProgressModel",
      "_view_count": null,
      "_view_module": "@jupyter-widgets/controls",
      "_view_module_version": "1.5.0",
      "_view_name": "ProgressView",
      "bar_style": "success",
      "description": "",
      "description_tooltip": null,
      "layout": "IPY_MODEL_ca35d5b3b16144f292e3e48e1d39646f",
      "max": 48,
      "min": 0,
      "orientation": "horizontal",
      "style": "IPY_MODEL_ab5e4b4e671f46519d211edecd9733db",
      "value": 48
     }
    },
    "67a584b3c9bc4a9ab040a62695d7177a": {
     "model_module": "@jupyter-widgets/controls",
     "model_module_version": "1.5.0",
     "model_name": "DescriptionStyleModel",
     "state": {
      "_model_module": "@jupyter-widgets/controls",
      "_model_module_version": "1.5.0",
      "_model_name": "DescriptionStyleModel",
      "_view_count": null,
      "_view_module": "@jupyter-widgets/base",
      "_view_module_version": "1.2.0",
      "_view_name": "StyleView",
      "description_width": ""
     }
    },
    "6af3f241ede24cb4ad36055329b6c580": {
     "model_module": "@jupyter-widgets/base",
     "model_module_version": "1.2.0",
     "model_name": "LayoutModel",
     "state": {
      "_model_module": "@jupyter-widgets/base",
      "_model_module_version": "1.2.0",
      "_model_name": "LayoutModel",
      "_view_count": null,
      "_view_module": "@jupyter-widgets/base",
      "_view_module_version": "1.2.0",
      "_view_name": "LayoutView",
      "align_content": null,
      "align_items": null,
      "align_self": null,
      "border": null,
      "bottom": null,
      "display": null,
      "flex": null,
      "flex_flow": null,
      "grid_area": null,
      "grid_auto_columns": null,
      "grid_auto_flow": null,
      "grid_auto_rows": null,
      "grid_column": null,
      "grid_gap": null,
      "grid_row": null,
      "grid_template_areas": null,
      "grid_template_columns": null,
      "grid_template_rows": null,
      "height": null,
      "justify_content": null,
      "justify_items": null,
      "left": null,
      "margin": null,
      "max_height": null,
      "max_width": null,
      "min_height": null,
      "min_width": null,
      "object_fit": null,
      "object_position": null,
      "order": null,
      "overflow": null,
      "overflow_x": null,
      "overflow_y": null,
      "padding": null,
      "right": null,
      "top": null,
      "visibility": null,
      "width": null
     }
    },
    "70426255cf3a4daea292fe9a919cffc7": {
     "model_module": "@jupyter-widgets/base",
     "model_module_version": "1.2.0",
     "model_name": "LayoutModel",
     "state": {
      "_model_module": "@jupyter-widgets/base",
      "_model_module_version": "1.2.0",
      "_model_name": "LayoutModel",
      "_view_count": null,
      "_view_module": "@jupyter-widgets/base",
      "_view_module_version": "1.2.0",
      "_view_name": "LayoutView",
      "align_content": null,
      "align_items": null,
      "align_self": null,
      "border": null,
      "bottom": null,
      "display": null,
      "flex": null,
      "flex_flow": null,
      "grid_area": null,
      "grid_auto_columns": null,
      "grid_auto_flow": null,
      "grid_auto_rows": null,
      "grid_column": null,
      "grid_gap": null,
      "grid_row": null,
      "grid_template_areas": null,
      "grid_template_columns": null,
      "grid_template_rows": null,
      "height": null,
      "justify_content": null,
      "justify_items": null,
      "left": null,
      "margin": null,
      "max_height": null,
      "max_width": null,
      "min_height": null,
      "min_width": null,
      "object_fit": null,
      "object_position": null,
      "order": null,
      "overflow": null,
      "overflow_x": null,
      "overflow_y": null,
      "padding": null,
      "right": null,
      "top": null,
      "visibility": null,
      "width": null
     }
    },
    "7bee21744adf41929f91ebd78fb5fdaa": {
     "model_module": "@jupyter-widgets/controls",
     "model_module_version": "1.5.0",
     "model_name": "HTMLModel",
     "state": {
      "_dom_classes": [],
      "_model_module": "@jupyter-widgets/controls",
      "_model_module_version": "1.5.0",
      "_model_name": "HTMLModel",
      "_view_count": null,
      "_view_module": "@jupyter-widgets/controls",
      "_view_module_version": "1.5.0",
      "_view_name": "HTMLView",
      "description": "",
      "description_tooltip": null,
      "layout": "IPY_MODEL_dc1ff7b047ce4f929e1ecac0385c81ba",
      "placeholder": "​",
      "style": "IPY_MODEL_2bc4f766f1ed4554843dda02beb155cf",
      "value": " 48.0/48.0 [00:00&lt;00:00, 1.32kB/s]"
     }
    },
    "806d538442754b848abb1292c9ea78f9": {
     "model_module": "@jupyter-widgets/controls",
     "model_module_version": "1.5.0",
     "model_name": "ProgressStyleModel",
     "state": {
      "_model_module": "@jupyter-widgets/controls",
      "_model_module_version": "1.5.0",
      "_model_name": "ProgressStyleModel",
      "_view_count": null,
      "_view_module": "@jupyter-widgets/base",
      "_view_module_version": "1.2.0",
      "_view_name": "StyleView",
      "bar_color": null,
      "description_width": ""
     }
    },
    "95fa8543e97f452490e466255a9b6957": {
     "model_module": "@jupyter-widgets/controls",
     "model_module_version": "1.5.0",
     "model_name": "FloatProgressModel",
     "state": {
      "_dom_classes": [],
      "_model_module": "@jupyter-widgets/controls",
      "_model_module_version": "1.5.0",
      "_model_name": "FloatProgressModel",
      "_view_count": null,
      "_view_module": "@jupyter-widgets/controls",
      "_view_module_version": "1.5.0",
      "_view_name": "ProgressView",
      "bar_style": "success",
      "description": "",
      "description_tooltip": null,
      "layout": "IPY_MODEL_70426255cf3a4daea292fe9a919cffc7",
      "max": 570,
      "min": 0,
      "orientation": "horizontal",
      "style": "IPY_MODEL_49a36dbc54434fd98f364288ff1ab84f",
      "value": 570
     }
    },
    "a61f7724cf1f45c7af3d736d54ebb89d": {
     "model_module": "@jupyter-widgets/controls",
     "model_module_version": "1.5.0",
     "model_name": "HTMLModel",
     "state": {
      "_dom_classes": [],
      "_model_module": "@jupyter-widgets/controls",
      "_model_module_version": "1.5.0",
      "_model_name": "HTMLModel",
      "_view_count": null,
      "_view_module": "@jupyter-widgets/controls",
      "_view_module_version": "1.5.0",
      "_view_name": "HTMLView",
      "description": "",
      "description_tooltip": null,
      "layout": "IPY_MODEL_4ff1a12e82b34c0fb1425d0d785905e1",
      "placeholder": "​",
      "style": "IPY_MODEL_2b24d8009bb84b459a4109777936de45",
      "value": " 232k/232k [00:00&lt;00:00, 2.75MB/s]"
     }
    },
    "a7f43a5d02b14c8bae210dda70aa596e": {
     "model_module": "@jupyter-widgets/base",
     "model_module_version": "1.2.0",
     "model_name": "LayoutModel",
     "state": {
      "_model_module": "@jupyter-widgets/base",
      "_model_module_version": "1.2.0",
      "_model_name": "LayoutModel",
      "_view_count": null,
      "_view_module": "@jupyter-widgets/base",
      "_view_module_version": "1.2.0",
      "_view_name": "LayoutView",
      "align_content": null,
      "align_items": null,
      "align_self": null,
      "border": null,
      "bottom": null,
      "display": null,
      "flex": null,
      "flex_flow": null,
      "grid_area": null,
      "grid_auto_columns": null,
      "grid_auto_flow": null,
      "grid_auto_rows": null,
      "grid_column": null,
      "grid_gap": null,
      "grid_row": null,
      "grid_template_areas": null,
      "grid_template_columns": null,
      "grid_template_rows": null,
      "height": null,
      "justify_content": null,
      "justify_items": null,
      "left": null,
      "margin": null,
      "max_height": null,
      "max_width": null,
      "min_height": null,
      "min_width": null,
      "object_fit": null,
      "object_position": null,
      "order": null,
      "overflow": null,
      "overflow_x": null,
      "overflow_y": null,
      "padding": null,
      "right": null,
      "top": null,
      "visibility": null,
      "width": null
     }
    },
    "a9f5b6b5c6cc48c5a759082f38cd0c1b": {
     "model_module": "@jupyter-widgets/controls",
     "model_module_version": "1.5.0",
     "model_name": "HTMLModel",
     "state": {
      "_dom_classes": [],
      "_model_module": "@jupyter-widgets/controls",
      "_model_module_version": "1.5.0",
      "_model_name": "HTMLModel",
      "_view_count": null,
      "_view_module": "@jupyter-widgets/controls",
      "_view_module_version": "1.5.0",
      "_view_name": "HTMLView",
      "description": "",
      "description_tooltip": null,
      "layout": "IPY_MODEL_591ba7bcb158466db617127dc560c41d",
      "placeholder": "​",
      "style": "IPY_MODEL_5dcab52a2462411a85af2351439054b7",
      "value": "tokenizer.json: 100%"
     }
    },
    "ab5e4b4e671f46519d211edecd9733db": {
     "model_module": "@jupyter-widgets/controls",
     "model_module_version": "1.5.0",
     "model_name": "ProgressStyleModel",
     "state": {
      "_model_module": "@jupyter-widgets/controls",
      "_model_module_version": "1.5.0",
      "_model_name": "ProgressStyleModel",
      "_view_count": null,
      "_view_module": "@jupyter-widgets/base",
      "_view_module_version": "1.2.0",
      "_view_name": "StyleView",
      "bar_color": null,
      "description_width": ""
     }
    },
    "ba073f72f58b429996a3c73b7e008617": {
     "model_module": "@jupyter-widgets/controls",
     "model_module_version": "1.5.0",
     "model_name": "DescriptionStyleModel",
     "state": {
      "_model_module": "@jupyter-widgets/controls",
      "_model_module_version": "1.5.0",
      "_model_name": "DescriptionStyleModel",
      "_view_count": null,
      "_view_module": "@jupyter-widgets/base",
      "_view_module_version": "1.2.0",
      "_view_name": "StyleView",
      "description_width": ""
     }
    },
    "c144ba30d4f5481193adfb0295f4e8f0": {
     "model_module": "@jupyter-widgets/controls",
     "model_module_version": "1.5.0",
     "model_name": "HTMLModel",
     "state": {
      "_dom_classes": [],
      "_model_module": "@jupyter-widgets/controls",
      "_model_module_version": "1.5.0",
      "_model_name": "HTMLModel",
      "_view_count": null,
      "_view_module": "@jupyter-widgets/controls",
      "_view_module_version": "1.5.0",
      "_view_name": "HTMLView",
      "description": "",
      "description_tooltip": null,
      "layout": "IPY_MODEL_a7f43a5d02b14c8bae210dda70aa596e",
      "placeholder": "​",
      "style": "IPY_MODEL_ba073f72f58b429996a3c73b7e008617",
      "value": " 466k/466k [00:00&lt;00:00, 4.97MB/s]"
     }
    },
    "c6f1e157cd8a4f31a2cd99fe6f810d23": {
     "model_module": "@jupyter-widgets/controls",
     "model_module_version": "1.5.0",
     "model_name": "HTMLModel",
     "state": {
      "_dom_classes": [],
      "_model_module": "@jupyter-widgets/controls",
      "_model_module_version": "1.5.0",
      "_model_name": "HTMLModel",
      "_view_count": null,
      "_view_module": "@jupyter-widgets/controls",
      "_view_module_version": "1.5.0",
      "_view_name": "HTMLView",
      "description": "",
      "description_tooltip": null,
      "layout": "IPY_MODEL_f0ce6e20886e44fbb225f85b3258adaf",
      "placeholder": "​",
      "style": "IPY_MODEL_67a584b3c9bc4a9ab040a62695d7177a",
      "value": "vocab.txt: 100%"
     }
    },
    "ca35d5b3b16144f292e3e48e1d39646f": {
     "model_module": "@jupyter-widgets/base",
     "model_module_version": "1.2.0",
     "model_name": "LayoutModel",
     "state": {
      "_model_module": "@jupyter-widgets/base",
      "_model_module_version": "1.2.0",
      "_model_name": "LayoutModel",
      "_view_count": null,
      "_view_module": "@jupyter-widgets/base",
      "_view_module_version": "1.2.0",
      "_view_name": "LayoutView",
      "align_content": null,
      "align_items": null,
      "align_self": null,
      "border": null,
      "bottom": null,
      "display": null,
      "flex": null,
      "flex_flow": null,
      "grid_area": null,
      "grid_auto_columns": null,
      "grid_auto_flow": null,
      "grid_auto_rows": null,
      "grid_column": null,
      "grid_gap": null,
      "grid_row": null,
      "grid_template_areas": null,
      "grid_template_columns": null,
      "grid_template_rows": null,
      "height": null,
      "justify_content": null,
      "justify_items": null,
      "left": null,
      "margin": null,
      "max_height": null,
      "max_width": null,
      "min_height": null,
      "min_width": null,
      "object_fit": null,
      "object_position": null,
      "order": null,
      "overflow": null,
      "overflow_x": null,
      "overflow_y": null,
      "padding": null,
      "right": null,
      "top": null,
      "visibility": null,
      "width": null
     }
    },
    "cf0fa633a70d4858a6586134171e7c3f": {
     "model_module": "@jupyter-widgets/base",
     "model_module_version": "1.2.0",
     "model_name": "LayoutModel",
     "state": {
      "_model_module": "@jupyter-widgets/base",
      "_model_module_version": "1.2.0",
      "_model_name": "LayoutModel",
      "_view_count": null,
      "_view_module": "@jupyter-widgets/base",
      "_view_module_version": "1.2.0",
      "_view_name": "LayoutView",
      "align_content": null,
      "align_items": null,
      "align_self": null,
      "border": null,
      "bottom": null,
      "display": null,
      "flex": null,
      "flex_flow": null,
      "grid_area": null,
      "grid_auto_columns": null,
      "grid_auto_flow": null,
      "grid_auto_rows": null,
      "grid_column": null,
      "grid_gap": null,
      "grid_row": null,
      "grid_template_areas": null,
      "grid_template_columns": null,
      "grid_template_rows": null,
      "height": null,
      "justify_content": null,
      "justify_items": null,
      "left": null,
      "margin": null,
      "max_height": null,
      "max_width": null,
      "min_height": null,
      "min_width": null,
      "object_fit": null,
      "object_position": null,
      "order": null,
      "overflow": null,
      "overflow_x": null,
      "overflow_y": null,
      "padding": null,
      "right": null,
      "top": null,
      "visibility": null,
      "width": null
     }
    },
    "d60570a3f1824fd0bafa85611cbe553c": {
     "model_module": "@jupyter-widgets/controls",
     "model_module_version": "1.5.0",
     "model_name": "HBoxModel",
     "state": {
      "_dom_classes": [],
      "_model_module": "@jupyter-widgets/controls",
      "_model_module_version": "1.5.0",
      "_model_name": "HBoxModel",
      "_view_count": null,
      "_view_module": "@jupyter-widgets/controls",
      "_view_module_version": "1.5.0",
      "_view_name": "HBoxView",
      "box_style": "",
      "children": [
       "IPY_MODEL_fc8278b341c74497a0eaf0558114ad07",
       "IPY_MODEL_95fa8543e97f452490e466255a9b6957",
       "IPY_MODEL_3cfd75eddb03478980ba74438b7d7343"
      ],
      "layout": "IPY_MODEL_1d15310930634916acb6ea3b7d17ddaf"
     }
    },
    "d6d02e3b81754ee8b1c9d7937dd5c062": {
     "model_module": "@jupyter-widgets/controls",
     "model_module_version": "1.5.0",
     "model_name": "FloatProgressModel",
     "state": {
      "_dom_classes": [],
      "_model_module": "@jupyter-widgets/controls",
      "_model_module_version": "1.5.0",
      "_model_name": "FloatProgressModel",
      "_view_count": null,
      "_view_module": "@jupyter-widgets/controls",
      "_view_module_version": "1.5.0",
      "_view_name": "ProgressView",
      "bar_style": "success",
      "description": "",
      "description_tooltip": null,
      "layout": "IPY_MODEL_11123bd889fa4acea78fba940825478c",
      "max": 466062,
      "min": 0,
      "orientation": "horizontal",
      "style": "IPY_MODEL_806d538442754b848abb1292c9ea78f9",
      "value": 466062
     }
    },
    "dc1ff7b047ce4f929e1ecac0385c81ba": {
     "model_module": "@jupyter-widgets/base",
     "model_module_version": "1.2.0",
     "model_name": "LayoutModel",
     "state": {
      "_model_module": "@jupyter-widgets/base",
      "_model_module_version": "1.2.0",
      "_model_name": "LayoutModel",
      "_view_count": null,
      "_view_module": "@jupyter-widgets/base",
      "_view_module_version": "1.2.0",
      "_view_name": "LayoutView",
      "align_content": null,
      "align_items": null,
      "align_self": null,
      "border": null,
      "bottom": null,
      "display": null,
      "flex": null,
      "flex_flow": null,
      "grid_area": null,
      "grid_auto_columns": null,
      "grid_auto_flow": null,
      "grid_auto_rows": null,
      "grid_column": null,
      "grid_gap": null,
      "grid_row": null,
      "grid_template_areas": null,
      "grid_template_columns": null,
      "grid_template_rows": null,
      "height": null,
      "justify_content": null,
      "justify_items": null,
      "left": null,
      "margin": null,
      "max_height": null,
      "max_width": null,
      "min_height": null,
      "min_width": null,
      "object_fit": null,
      "object_position": null,
      "order": null,
      "overflow": null,
      "overflow_x": null,
      "overflow_y": null,
      "padding": null,
      "right": null,
      "top": null,
      "visibility": null,
      "width": null
     }
    },
    "e35820ca830f4f36964311e3fe794212": {
     "model_module": "@jupyter-widgets/base",
     "model_module_version": "1.2.0",
     "model_name": "LayoutModel",
     "state": {
      "_model_module": "@jupyter-widgets/base",
      "_model_module_version": "1.2.0",
      "_model_name": "LayoutModel",
      "_view_count": null,
      "_view_module": "@jupyter-widgets/base",
      "_view_module_version": "1.2.0",
      "_view_name": "LayoutView",
      "align_content": null,
      "align_items": null,
      "align_self": null,
      "border": null,
      "bottom": null,
      "display": null,
      "flex": null,
      "flex_flow": null,
      "grid_area": null,
      "grid_auto_columns": null,
      "grid_auto_flow": null,
      "grid_auto_rows": null,
      "grid_column": null,
      "grid_gap": null,
      "grid_row": null,
      "grid_template_areas": null,
      "grid_template_columns": null,
      "grid_template_rows": null,
      "height": null,
      "justify_content": null,
      "justify_items": null,
      "left": null,
      "margin": null,
      "max_height": null,
      "max_width": null,
      "min_height": null,
      "min_width": null,
      "object_fit": null,
      "object_position": null,
      "order": null,
      "overflow": null,
      "overflow_x": null,
      "overflow_y": null,
      "padding": null,
      "right": null,
      "top": null,
      "visibility": null,
      "width": null
     }
    },
    "e5919368545143f1b4ac7ea07965a44c": {
     "model_module": "@jupyter-widgets/controls",
     "model_module_version": "1.5.0",
     "model_name": "DescriptionStyleModel",
     "state": {
      "_model_module": "@jupyter-widgets/controls",
      "_model_module_version": "1.5.0",
      "_model_name": "DescriptionStyleModel",
      "_view_count": null,
      "_view_module": "@jupyter-widgets/base",
      "_view_module_version": "1.2.0",
      "_view_name": "StyleView",
      "description_width": ""
     }
    },
    "f0ce6e20886e44fbb225f85b3258adaf": {
     "model_module": "@jupyter-widgets/base",
     "model_module_version": "1.2.0",
     "model_name": "LayoutModel",
     "state": {
      "_model_module": "@jupyter-widgets/base",
      "_model_module_version": "1.2.0",
      "_model_name": "LayoutModel",
      "_view_count": null,
      "_view_module": "@jupyter-widgets/base",
      "_view_module_version": "1.2.0",
      "_view_name": "LayoutView",
      "align_content": null,
      "align_items": null,
      "align_self": null,
      "border": null,
      "bottom": null,
      "display": null,
      "flex": null,
      "flex_flow": null,
      "grid_area": null,
      "grid_auto_columns": null,
      "grid_auto_flow": null,
      "grid_auto_rows": null,
      "grid_column": null,
      "grid_gap": null,
      "grid_row": null,
      "grid_template_areas": null,
      "grid_template_columns": null,
      "grid_template_rows": null,
      "height": null,
      "justify_content": null,
      "justify_items": null,
      "left": null,
      "margin": null,
      "max_height": null,
      "max_width": null,
      "min_height": null,
      "min_width": null,
      "object_fit": null,
      "object_position": null,
      "order": null,
      "overflow": null,
      "overflow_x": null,
      "overflow_y": null,
      "padding": null,
      "right": null,
      "top": null,
      "visibility": null,
      "width": null
     }
    },
    "f9504e7ebfcd44998053b4277393a9ea": {
     "model_module": "@jupyter-widgets/base",
     "model_module_version": "1.2.0",
     "model_name": "LayoutModel",
     "state": {
      "_model_module": "@jupyter-widgets/base",
      "_model_module_version": "1.2.0",
      "_model_name": "LayoutModel",
      "_view_count": null,
      "_view_module": "@jupyter-widgets/base",
      "_view_module_version": "1.2.0",
      "_view_name": "LayoutView",
      "align_content": null,
      "align_items": null,
      "align_self": null,
      "border": null,
      "bottom": null,
      "display": null,
      "flex": null,
      "flex_flow": null,
      "grid_area": null,
      "grid_auto_columns": null,
      "grid_auto_flow": null,
      "grid_auto_rows": null,
      "grid_column": null,
      "grid_gap": null,
      "grid_row": null,
      "grid_template_areas": null,
      "grid_template_columns": null,
      "grid_template_rows": null,
      "height": null,
      "justify_content": null,
      "justify_items": null,
      "left": null,
      "margin": null,
      "max_height": null,
      "max_width": null,
      "min_height": null,
      "min_width": null,
      "object_fit": null,
      "object_position": null,
      "order": null,
      "overflow": null,
      "overflow_x": null,
      "overflow_y": null,
      "padding": null,
      "right": null,
      "top": null,
      "visibility": null,
      "width": null
     }
    },
    "f97ce82d843444458859d0f42b7e0f78": {
     "model_module": "@jupyter-widgets/base",
     "model_module_version": "1.2.0",
     "model_name": "LayoutModel",
     "state": {
      "_model_module": "@jupyter-widgets/base",
      "_model_module_version": "1.2.0",
      "_model_name": "LayoutModel",
      "_view_count": null,
      "_view_module": "@jupyter-widgets/base",
      "_view_module_version": "1.2.0",
      "_view_name": "LayoutView",
      "align_content": null,
      "align_items": null,
      "align_self": null,
      "border": null,
      "bottom": null,
      "display": null,
      "flex": null,
      "flex_flow": null,
      "grid_area": null,
      "grid_auto_columns": null,
      "grid_auto_flow": null,
      "grid_auto_rows": null,
      "grid_column": null,
      "grid_gap": null,
      "grid_row": null,
      "grid_template_areas": null,
      "grid_template_columns": null,
      "grid_template_rows": null,
      "height": null,
      "justify_content": null,
      "justify_items": null,
      "left": null,
      "margin": null,
      "max_height": null,
      "max_width": null,
      "min_height": null,
      "min_width": null,
      "object_fit": null,
      "object_position": null,
      "order": null,
      "overflow": null,
      "overflow_x": null,
      "overflow_y": null,
      "padding": null,
      "right": null,
      "top": null,
      "visibility": null,
      "width": null
     }
    },
    "fc8278b341c74497a0eaf0558114ad07": {
     "model_module": "@jupyter-widgets/controls",
     "model_module_version": "1.5.0",
     "model_name": "HTMLModel",
     "state": {
      "_dom_classes": [],
      "_model_module": "@jupyter-widgets/controls",
      "_model_module_version": "1.5.0",
      "_model_name": "HTMLModel",
      "_view_count": null,
      "_view_module": "@jupyter-widgets/controls",
      "_view_module_version": "1.5.0",
      "_view_name": "HTMLView",
      "description": "",
      "description_tooltip": null,
      "layout": "IPY_MODEL_e35820ca830f4f36964311e3fe794212",
      "placeholder": "​",
      "style": "IPY_MODEL_e5919368545143f1b4ac7ea07965a44c",
      "value": "config.json: 100%"
     }
    },
    "ffa5f254eb384b7e90a458497c270158": {
     "model_module": "@jupyter-widgets/base",
     "model_module_version": "1.2.0",
     "model_name": "LayoutModel",
     "state": {
      "_model_module": "@jupyter-widgets/base",
      "_model_module_version": "1.2.0",
      "_model_name": "LayoutModel",
      "_view_count": null,
      "_view_module": "@jupyter-widgets/base",
      "_view_module_version": "1.2.0",
      "_view_name": "LayoutView",
      "align_content": null,
      "align_items": null,
      "align_self": null,
      "border": null,
      "bottom": null,
      "display": null,
      "flex": null,
      "flex_flow": null,
      "grid_area": null,
      "grid_auto_columns": null,
      "grid_auto_flow": null,
      "grid_auto_rows": null,
      "grid_column": null,
      "grid_gap": null,
      "grid_row": null,
      "grid_template_areas": null,
      "grid_template_columns": null,
      "grid_template_rows": null,
      "height": null,
      "justify_content": null,
      "justify_items": null,
      "left": null,
      "margin": null,
      "max_height": null,
      "max_width": null,
      "min_height": null,
      "min_width": null,
      "object_fit": null,
      "object_position": null,
      "order": null,
      "overflow": null,
      "overflow_x": null,
      "overflow_y": null,
      "padding": null,
      "right": null,
      "top": null,
      "visibility": null,
      "width": null
     }
    }
   }
  }
 },
 "nbformat": 4,
 "nbformat_minor": 4
}
